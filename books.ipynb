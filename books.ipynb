{
 "cells": [
  {
   "cell_type": "code",
   "execution_count": 2506,
   "metadata": {},
   "outputs": [],
   "source": [
    "import openpyxl"
   ]
  },
  {
   "cell_type": "code",
   "execution_count": 2507,
   "metadata": {},
   "outputs": [],
   "source": [
    "from bs4 import BeautifulSoup"
   ]
  },
  {
   "cell_type": "code",
   "execution_count": 2508,
   "metadata": {},
   "outputs": [],
   "source": [
    "import urllib.request"
   ]
  },
  {
   "cell_type": "code",
   "execution_count": 2509,
   "metadata": {},
   "outputs": [],
   "source": [
    "path = 'https://www.amazon.in/Kings-Cage-Queen-Victoria-Aveyard/dp/1409150763/ref=sr_1_1?keywords=1409150763&qid=1561120125&s=gateway&sr=8-1'"
   ]
  },
  {
   "cell_type": "code",
   "execution_count": 2510,
   "metadata": {},
   "outputs": [],
   "source": [
    "sauce = urllib.request.urlopen(path)"
   ]
  },
  {
   "cell_type": "code",
   "execution_count": 2511,
   "metadata": {},
   "outputs": [],
   "source": [
    "soup = BeautifulSoup(sauce,'lxml')"
   ]
  },
  {
   "cell_type": "code",
   "execution_count": 2512,
   "metadata": {},
   "outputs": [],
   "source": [
    "content_list = []        "
   ]
  },
  {
   "cell_type": "code",
   "execution_count": 2513,
   "metadata": {},
   "outputs": [],
   "source": [
    "for centerCol in soup.find_all('div',id = 'centerCol'):\n",
    "    for booksTitle in centerCol.find_all('div',id = 'booksTitle'):\n",
    "        for h1 in booksTitle.find_all('h1',id = 'title'):\n",
    "            for span in h1.find_all('span'):\n",
    "                content_list.append(span.string)      "
   ]
  },
  {
   "cell_type": "code",
   "execution_count": 2514,
   "metadata": {},
   "outputs": [],
   "source": [
    "title = content_list[0]"
   ]
  },
  {
   "cell_type": "code",
   "execution_count": 2515,
   "metadata": {},
   "outputs": [
    {
     "data": {
      "text/plain": [
       "\"King's Cage (Red Queen)\""
      ]
     },
     "execution_count": 2515,
     "metadata": {},
     "output_type": "execute_result"
    }
   ],
   "source": [
    "title"
   ]
  },
  {
   "cell_type": "code",
   "execution_count": 2516,
   "metadata": {},
   "outputs": [],
   "source": [
    "if ',' in content_list[2]:\n",
    "    print('in')\n",
    "    release_date = content_list[2].split('–')\n",
    "    release_date = release_date[1].split(',')\n",
    "    release_date = release_date[1].strip()\n",
    "else:\n",
    "    release_date = content_list[2].split('–')\n",
    "    release_date = release_date[1].strip()"
   ]
  },
  {
   "cell_type": "code",
   "execution_count": 2517,
   "metadata": {},
   "outputs": [
    {
     "data": {
      "text/plain": [
       "'30 Sep 2017'"
      ]
     },
     "execution_count": 2517,
     "metadata": {},
     "output_type": "execute_result"
    }
   ],
   "source": [
    "release_date"
   ]
  },
  {
   "cell_type": "code",
   "execution_count": 2518,
   "metadata": {},
   "outputs": [],
   "source": [
    "content_list = []"
   ]
  },
  {
   "cell_type": "code",
   "execution_count": 2519,
   "metadata": {},
   "outputs": [],
   "source": [
    "for centerCol in soup.find_all('div',id = 'centerCol'):\n",
    "    for author in centerCol.find_all('span',class_ = 'author notFaded'):\n",
    "        for span in author.find_all('a'):\n",
    "            content_list.append(span.string)"
   ]
  },
  {
   "cell_type": "code",
   "execution_count": 2520,
   "metadata": {},
   "outputs": [],
   "source": [
    "if len(content_list) < 2:\n",
    "    print('in')\n",
    "    author = content_list[0]\n",
    "else:\n",
    "    author = content_list[2]"
   ]
  },
  {
   "cell_type": "code",
   "execution_count": 2521,
   "metadata": {},
   "outputs": [
    {
     "data": {
      "text/plain": [
       "'Victoria Aveyard'"
      ]
     },
     "execution_count": 2521,
     "metadata": {},
     "output_type": "execute_result"
    }
   ],
   "source": [
    "author"
   ]
  },
  {
   "cell_type": "code",
   "execution_count": 2522,
   "metadata": {},
   "outputs": [],
   "source": [
    "content_list = []"
   ]
  },
  {
   "cell_type": "code",
   "execution_count": 2523,
   "metadata": {},
   "outputs": [],
   "source": [
    "for rightCol in soup.find_all('div',id = 'rightCol'):\n",
    "    for combinedbuybox in rightCol.find_all('div',id = 'combinedBuyBox'):\n",
    "        for addToCart in combinedbuybox.find_all('form',id = 'addToCart'):\n",
    "            for buybox in addToCart.find_all('div',id = 'buybox'):\n",
    "                for span in buybox.find_all('span',limit = 1):\n",
    "                    content_list.append(span.text)\n",
    "                \n",
    "            "
   ]
  },
  {
   "cell_type": "code",
   "execution_count": 2524,
   "metadata": {},
   "outputs": [],
   "source": [
    "content_list = content_list[0].split('₹\\xa0')"
   ]
  },
  {
   "cell_type": "code",
   "execution_count": 2525,
   "metadata": {},
   "outputs": [],
   "source": [
    "price = content_list[1]"
   ]
  },
  {
   "cell_type": "code",
   "execution_count": 2526,
   "metadata": {},
   "outputs": [
    {
     "data": {
      "text/plain": [
       "'300.00'"
      ]
     },
     "execution_count": 2526,
     "metadata": {},
     "output_type": "execute_result"
    }
   ],
   "source": [
    "price"
   ]
  },
  {
   "cell_type": "code",
   "execution_count": 2527,
   "metadata": {},
   "outputs": [],
   "source": [
    "content_list = []"
   ]
  },
  {
   "cell_type": "code",
   "execution_count": 2528,
   "metadata": {},
   "outputs": [],
   "source": [
    "for centerCol in soup.find_all('div',id = 'centerCol'):\n",
    "    for noscript in centerCol.find_all('noscript'):\n",
    "        content_list = noscript.contents"
   ]
  },
  {
   "cell_type": "code",
   "execution_count": 2529,
   "metadata": {},
   "outputs": [],
   "source": [
    "long_desc = str(content_list[1])"
   ]
  },
  {
   "cell_type": "code",
   "execution_count": 2530,
   "metadata": {},
   "outputs": [],
   "source": [
    "short_desc = long_desc.split('.')"
   ]
  },
  {
   "cell_type": "code",
   "execution_count": 2531,
   "metadata": {},
   "outputs": [],
   "source": [
    "short_desc = short_desc[0]"
   ]
  },
  {
   "cell_type": "code",
   "execution_count": 2532,
   "metadata": {},
   "outputs": [
    {
     "data": {
      "text/plain": [
       "'<div> In this breathless third instalment to Victoria Aveyard’s bestselling Red Queen series, allegiances are tested on every side'"
      ]
     },
     "execution_count": 2532,
     "metadata": {},
     "output_type": "execute_result"
    }
   ],
   "source": [
    "short_desc"
   ]
  },
  {
   "cell_type": "code",
   "execution_count": 2533,
   "metadata": {},
   "outputs": [
    {
     "data": {
      "text/plain": [
       "\"<div> In this breathless third instalment to Victoria Aveyard’s bestselling Red Queen series, allegiances are tested on every side. And when the Lightning Girl's spark is gone, who will light the way for the rebellion? Mare Barrow is a prisoner, powerless without her lightning, tormented by her lethal mistakes. She lives at the mercy of a boy she once loved, a boy made of lies and betrayal. Now a king, Maven Calore continues weaving his dead mother's web in an attempt to maintain control over his country—and his prisoner. As Mare bears the weight of Silent Stone in the palace, her once-ragtag band of new bloods and Reds continue organizing, training and expanding. They prepare for war, no longer able to linger in the shadows. And Cal, the exiled prince with his own claim on Mare's heart, will stop at nothing to bring her back. When blood turns on blood and ability on ability, there may be no one left to put out the fire—leaving Norta as Mare knows it to burn all the way down.</div>\""
      ]
     },
     "execution_count": 2533,
     "metadata": {},
     "output_type": "execute_result"
    }
   ],
   "source": [
    "long_desc"
   ]
  },
  {
   "cell_type": "code",
   "execution_count": 2534,
   "metadata": {},
   "outputs": [],
   "source": [
    "page_count = []\n",
    "publisher = []\n",
    "language = []\n",
    "isbn10 = []\n",
    "isbn13 = []"
   ]
  },
  {
   "cell_type": "code",
   "execution_count": 2535,
   "metadata": {},
   "outputs": [],
   "source": [
    "for details in soup.find_all('div',id = 'detail_bullets_id'):\n",
    "    for table in details.find_all('table'):\n",
    "        for li in table.find_all('li'):\n",
    "            for b in li.find_all('b'):\n",
    "                if b.string == 'Paperback:':\n",
    "                    page_count.append(li.text)\n",
    "                if b.string == 'Hardcover:':\n",
    "                    page_count.append(li.text)\n",
    "                if b.string == 'Mass Market Paperback:':\n",
    "                    page_count.append(li.text)\n",
    "                if b.string == 'Publisher:':\n",
    "                    publisher.append(li.text)\n",
    "                if b.string == 'Language:':\n",
    "                    language.append(li.text)\n",
    "                if b.string == 'Publisher':\n",
    "                    publisher.append(li.text)\n",
    "                if b.string == 'ISBN-10:':\n",
    "                    isbn10.append(li.text)\n",
    "                if b.string == 'ISBN-13:':\n",
    "                    isbn13.append(li.text)"
   ]
  },
  {
   "cell_type": "code",
   "execution_count": 2536,
   "metadata": {},
   "outputs": [
    {
     "data": {
      "text/plain": [
       "['Paperback: 528 pages']"
      ]
     },
     "execution_count": 2536,
     "metadata": {},
     "output_type": "execute_result"
    }
   ],
   "source": [
    "page_count"
   ]
  },
  {
   "cell_type": "code",
   "execution_count": 2537,
   "metadata": {},
   "outputs": [
    {
     "data": {
      "text/plain": [
       "'528'"
      ]
     },
     "execution_count": 2537,
     "metadata": {},
     "output_type": "execute_result"
    }
   ],
   "source": [
    "page_count = page_count[0].split(':')\n",
    "page_count = page_count[1].split(' ')\n",
    "page_count = page_count[1].strip()\n",
    "page_count"
   ]
  },
  {
   "cell_type": "code",
   "execution_count": 2538,
   "metadata": {},
   "outputs": [
    {
     "data": {
      "text/plain": [
       "['Publisher: Orion (6 September 2017)']"
      ]
     },
     "execution_count": 2538,
     "metadata": {},
     "output_type": "execute_result"
    }
   ],
   "source": [
    "publisher"
   ]
  },
  {
   "cell_type": "code",
   "execution_count": 2539,
   "metadata": {},
   "outputs": [
    {
     "name": "stdout",
     "output_type": "stream",
     "text": [
      "in (\n"
     ]
    }
   ],
   "source": [
    "if ';' in publisher[0]:\n",
    "    print('in ;')\n",
    "    publisher = publisher[0].split(';')\n",
    "    publisher = publisher[0].split(':')\n",
    "    publisher = publisher[1].strip()\n",
    "elif '(' in publisher[0]:\n",
    "    print('in (')\n",
    "    publisher = publisher[0].split('(')\n",
    "    publisher = publisher[0].split(':')\n",
    "    publisher = publisher[1].strip()"
   ]
  },
  {
   "cell_type": "code",
   "execution_count": 2540,
   "metadata": {},
   "outputs": [
    {
     "data": {
      "text/plain": [
       "'Orion'"
      ]
     },
     "execution_count": 2540,
     "metadata": {},
     "output_type": "execute_result"
    }
   ],
   "source": [
    "publisher"
   ]
  },
  {
   "cell_type": "code",
   "execution_count": 2541,
   "metadata": {},
   "outputs": [
    {
     "data": {
      "text/plain": [
       "'English'"
      ]
     },
     "execution_count": 2541,
     "metadata": {},
     "output_type": "execute_result"
    }
   ],
   "source": [
    "language = language[0].split(' ')\n",
    "language = language[1]\n",
    "language"
   ]
  },
  {
   "cell_type": "code",
   "execution_count": 2542,
   "metadata": {},
   "outputs": [
    {
     "data": {
      "text/plain": [
       "'1409150763'"
      ]
     },
     "execution_count": 2542,
     "metadata": {},
     "output_type": "execute_result"
    }
   ],
   "source": [
    "isbn10 = isbn10[0].split(' ')\n",
    "isbn10 = isbn10[1]\n",
    "isbn10"
   ]
  },
  {
   "cell_type": "code",
   "execution_count": 2543,
   "metadata": {},
   "outputs": [
    {
     "data": {
      "text/plain": [
       "'978-1409150763'"
      ]
     },
     "execution_count": 2543,
     "metadata": {},
     "output_type": "execute_result"
    }
   ],
   "source": [
    "isbn13 = isbn13[0].split(' ')\n",
    "isbn13 = isbn13[1]\n",
    "isbn13"
   ]
  },
  {
   "cell_type": "code",
   "execution_count": 2544,
   "metadata": {},
   "outputs": [],
   "source": [
    "wb = openpyxl.load_workbook('/home/darshan/Downloads/books.xlsx')"
   ]
  },
  {
   "cell_type": "code",
   "execution_count": 2545,
   "metadata": {},
   "outputs": [],
   "source": [
    "sheets = wb.active"
   ]
  },
  {
   "cell_type": "code",
   "execution_count": 2546,
   "metadata": {},
   "outputs": [],
   "source": [
    "i += 1"
   ]
  },
  {
   "cell_type": "code",
   "execution_count": null,
   "metadata": {},
   "outputs": [],
   "source": []
  },
  {
   "cell_type": "code",
   "execution_count": null,
   "metadata": {},
   "outputs": [],
   "source": []
  },
  {
   "cell_type": "code",
   "execution_count": null,
   "metadata": {},
   "outputs": [],
   "source": []
  },
  {
   "cell_type": "code",
   "execution_count": null,
   "metadata": {},
   "outputs": [],
   "source": []
  },
  {
   "cell_type": "code",
   "execution_count": null,
   "metadata": {},
   "outputs": [],
   "source": []
  },
  {
   "cell_type": "code",
   "execution_count": null,
   "metadata": {},
   "outputs": [],
   "source": []
  },
  {
   "cell_type": "code",
   "execution_count": 2547,
   "metadata": {},
   "outputs": [],
   "source": [
    "cell = sheets.cell(row = i,column = 1)\n",
    "cell.value = title"
   ]
  },
  {
   "cell_type": "code",
   "execution_count": 2548,
   "metadata": {},
   "outputs": [],
   "source": [
    "cell = sheets.cell(row = i,column = 4)\n",
    "cell.value = author"
   ]
  },
  {
   "cell_type": "code",
   "execution_count": 2549,
   "metadata": {},
   "outputs": [],
   "source": [
    "cell = sheets.cell(row = i,column = 5)\n",
    "cell.value = isbn10"
   ]
  },
  {
   "cell_type": "code",
   "execution_count": 2550,
   "metadata": {},
   "outputs": [],
   "source": [
    "cell = sheets.cell(row = i,column = 6)\n",
    "cell.value = isbn13"
   ]
  },
  {
   "cell_type": "code",
   "execution_count": 2551,
   "metadata": {},
   "outputs": [],
   "source": [
    "cell = sheets.cell(row = i,column = 8)\n",
    "cell.value = publisher"
   ]
  },
  {
   "cell_type": "code",
   "execution_count": 2552,
   "metadata": {},
   "outputs": [],
   "source": [
    "cell = sheets.cell(row = i,column = 13)\n",
    "cell.value = page_count"
   ]
  },
  {
   "cell_type": "code",
   "execution_count": 2553,
   "metadata": {},
   "outputs": [],
   "source": [
    "cell = sheets.cell(row = i,column = 14)\n",
    "cell.value = release_date"
   ]
  },
  {
   "cell_type": "code",
   "execution_count": 2554,
   "metadata": {},
   "outputs": [],
   "source": [
    "cell = sheets.cell(row = i,column = 15)\n",
    "cell.value = language"
   ]
  },
  {
   "cell_type": "code",
   "execution_count": 2555,
   "metadata": {},
   "outputs": [],
   "source": [
    "cell = sheets.cell(row = i,column = 21)\n",
    "cell.value = price"
   ]
  },
  {
   "cell_type": "code",
   "execution_count": 2556,
   "metadata": {},
   "outputs": [],
   "source": [
    "cell = sheets.cell(row = i,column = 22)\n",
    "cell.value = path"
   ]
  },
  {
   "cell_type": "code",
   "execution_count": 2557,
   "metadata": {},
   "outputs": [],
   "source": [
    "cell = sheets.cell(row = i,column = 23)\n",
    "cell.value = short_desc"
   ]
  },
  {
   "cell_type": "code",
   "execution_count": 2558,
   "metadata": {},
   "outputs": [],
   "source": [
    "cell = sheets.cell(row = i,column = 24)\n",
    "cell.value = long_desc"
   ]
  },
  {
   "cell_type": "code",
   "execution_count": 2559,
   "metadata": {},
   "outputs": [],
   "source": [
    "wb.save('/home/darshan/Downloads/books.xlsx')"
   ]
  },
  {
   "cell_type": "code",
   "execution_count": null,
   "metadata": {},
   "outputs": [],
   "source": []
  },
  {
   "cell_type": "code",
   "execution_count": 2560,
   "metadata": {},
   "outputs": [
    {
     "data": {
      "text/plain": [
       "41"
      ]
     },
     "execution_count": 2560,
     "metadata": {},
     "output_type": "execute_result"
    }
   ],
   "source": [
    "i"
   ]
  },
  {
   "cell_type": "code",
   "execution_count": null,
   "metadata": {},
   "outputs": [],
   "source": []
  },
  {
   "cell_type": "code",
   "execution_count": null,
   "metadata": {},
   "outputs": [],
   "source": []
  }
 ],
 "metadata": {
  "kernelspec": {
   "display_name": "Python 3",
   "language": "python",
   "name": "python3"
  },
  "language_info": {
   "codemirror_mode": {
    "name": "ipython",
    "version": 3
   },
   "file_extension": ".py",
   "mimetype": "text/x-python",
   "name": "python",
   "nbconvert_exporter": "python",
   "pygments_lexer": "ipython3",
   "version": "3.7.1"
  }
 },
 "nbformat": 4,
 "nbformat_minor": 2
}
